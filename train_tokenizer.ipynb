{
 "cells": [
  {
   "cell_type": "markdown",
   "metadata": {},
   "source": [
    "## Assemble a corpus"
   ]
  },
  {
   "cell_type": "code",
   "execution_count": 1,
   "metadata": {},
   "outputs": [
    {
     "data": {
      "text/plain": [
       "'/home/mainuser/Desktop/LLMs/gpt2_from_scratch_to_tiny_stories'"
      ]
     },
     "execution_count": 1,
     "metadata": {},
     "output_type": "execute_result"
    }
   ],
   "source": [
    "import os; os.getcwd()"
   ]
  },
  {
   "cell_type": "code",
   "execution_count": 2,
   "metadata": {},
   "outputs": [
    {
     "name": "stderr",
     "output_type": "stream",
     "text": [
      "/home/mainuser/anaconda3/envs/mintonano/lib/python3.11/site-packages/tqdm/auto.py:21: TqdmWarning: IProgress not found. Please update jupyter and ipywidgets. See https://ipywidgets.readthedocs.io/en/stable/user_install.html\n",
      "  from .autonotebook import tqdm as notebook_tqdm\n"
     ]
    }
   ],
   "source": [
    "from datasets import load_dataset\n",
    "tiny_stories_ds=load_dataset(\"roneneldan/TinyStories\")\n"
   ]
  },
  {
   "cell_type": "markdown",
   "metadata": {},
   "source": [
    "- Create Python generator to avoid loading into RAM "
   ]
  },
  {
   "cell_type": "code",
   "execution_count": 3,
   "metadata": {},
   "outputs": [
    {
     "data": {
      "text/plain": [
       "{'text': ['One day, a little girl named Lily found a needle in her room. She knew it was difficult to play with it because it was sharp. Lily wanted to share the needle with her mom, so she could sew a button on her shirt.\\n\\nLily went to her mom and said, \"Mom, I found this needle. Can you share it with me and sew my shirt?\" Her mom smiled and said, \"Yes, Lily, we can share the needle and fix your shirt.\"\\n\\nTogether, they shared the needle and sewed the button on Lily\\'s shirt. It was not difficult for them because they were sharing and helping each other. After they finished, Lily thanked her mom for sharing the needle and fixing her shirt. They both felt happy because they had shared and worked together.',\n",
       "  'Once upon a time, there was a little car named Beep. Beep loved to go fast and play in the sun. Beep was a healthy car because he always had good fuel. Good fuel made Beep happy and strong.\\n\\nOne day, Beep was driving in the park when he saw a big tree. The tree had many leaves that were falling. Beep liked how the leaves fall and wanted to play with them. Beep drove under the tree and watched the leaves fall on him. He laughed and beeped his horn.\\n\\nBeep played with the falling leaves all day. When it was time to go home, Beep knew he needed more fuel. He went to the fuel place and got more healthy fuel. Now, Beep was ready to go fast and play again the next day. And Beep lived happily ever after.',\n",
       "  'One day, a little fish named Fin was swimming near the shore. He saw a big crab and wanted to be friends. \"Hi, I am Fin. Do you want to play?\" asked the little fish. The crab looked at Fin and said, \"No, I don\\'t want to play. I am cold and I don\\'t feel fine.\"\\n\\nFin felt sad but wanted to help the crab feel better. He swam away and thought of a plan. He remembered that the sun could make things warm. So, Fin swam to the top of the water and called to the sun, \"Please, sun, help my new friend feel fine and not freeze!\"\\n\\nThe sun heard Fin\\'s call and shone its warm light on the shore. The crab started to feel better and not so cold. He saw Fin and said, \"Thank you, little fish, for making me feel fine. I don\\'t feel like I will freeze now. Let\\'s play together!\" And so, Fin and the crab played and became good friends.',\n",
       "  'Once upon a time, in a land full of trees, there was a little cherry tree. The cherry tree was very sad because it did not have any friends. All the other trees were big and strong, but the cherry tree was small and weak. The cherry tree was envious of the big trees.\\n\\nOne day, the cherry tree felt a tickle in its branches. It was a little spring wind. The wind told the cherry tree not to be sad. The wind said, \"You are special because you have sweet cherries that everyone loves.\" The cherry tree started to feel a little better.\\n\\nAs time went on, the cherry tree grew more and more cherries. All the animals in the land came to eat the cherries and play under the cherry tree. The cherry tree was happy because it had many friends now. The cherry tree learned that being different can be a good thing. And they all lived happily ever after.',\n",
       "  'Once upon a time, there was a little girl named Lily. Lily liked to pretend she was a popular princess. She lived in a big castle with her best friends, a cat and a dog.\\n\\nOne day, while playing in the castle, Lily found a big cobweb. The cobweb was in the way of her fun game. She wanted to get rid of it, but she was scared of the spider that lived there.\\n\\nLily asked her friends, the cat and the dog, to help her. They all worked together to clean the cobweb. The spider was sad, but it found a new home outside. Lily, the cat, and the dog were happy they could play without the cobweb in the way. And they all lived happily ever after.']}"
      ]
     },
     "execution_count": 3,
     "metadata": {},
     "output_type": "execute_result"
    }
   ],
   "source": [
    "tiny_stories_ds['train'][:5]"
   ]
  },
  {
   "cell_type": "code",
   "execution_count": 4,
   "metadata": {},
   "outputs": [],
   "source": [
    "def get_training_corpus(dataset,split='train',field='text'):\n",
    "    dataset = dataset[split]\n",
    "    for start_idx in range(0, len(dataset), 1024): #using a power of 2, why not...\n",
    "        yield dataset[start_idx:start_idx+1024][field]\n",
    "training_corpus = get_training_corpus(tiny_stories_ds)"
   ]
  },
  {
   "cell_type": "markdown",
   "metadata": {},
   "source": [
    "## Train a new tokenizer"
   ]
  },
  {
   "cell_type": "markdown",
   "metadata": {},
   "source": [
    "- Load a tokenizer primarily for the settings about algorithm, special tokens, etc."
   ]
  },
  {
   "cell_type": "code",
   "execution_count": 5,
   "metadata": {},
   "outputs": [
    {
     "name": "stderr",
     "output_type": "stream",
     "text": [
      "/home/mainuser/anaconda3/envs/mintonano/lib/python3.11/site-packages/huggingface_hub/file_download.py:1132: FutureWarning: `resume_download` is deprecated and will be removed in version 1.0.0. Downloads always resume when possible. If you want to force a new download, use `force_download=True`.\n",
      "  warnings.warn(\n"
     ]
    }
   ],
   "source": [
    "from transformers import AutoTokenizer\n",
    "old_tokenizer = AutoTokenizer.from_pretrained('gpt2')"
   ]
  },
  {
   "cell_type": "code",
   "execution_count": 6,
   "metadata": {},
   "outputs": [
    {
     "data": {
      "text/plain": [
       "GPT2TokenizerFast(name_or_path='gpt2', vocab_size=50257, model_max_length=1024, is_fast=True, padding_side='right', truncation_side='right', special_tokens={'bos_token': '<|endoftext|>', 'eos_token': '<|endoftext|>', 'unk_token': '<|endoftext|>'}, clean_up_tokenization_spaces=True),  added_tokens_decoder={\n",
       "\t50256: AddedToken(\"<|endoftext|>\", rstrip=False, lstrip=False, single_word=False, normalized=True, special=True),\n",
       "}"
      ]
     },
     "execution_count": 6,
     "metadata": {},
     "output_type": "execute_result"
    }
   ],
   "source": [
    "old_tokenizer#.vocab_size = 50304"
   ]
  },
  {
   "cell_type": "code",
   "execution_count": 7,
   "metadata": {},
   "outputs": [
    {
     "data": {
      "text/plain": [
       "50257"
      ]
     },
     "execution_count": 7,
     "metadata": {},
     "output_type": "execute_result"
    }
   ],
   "source": [
    "old_tokenizer.vocab_size"
   ]
  },
  {
   "cell_type": "code",
   "execution_count": 8,
   "metadata": {},
   "outputs": [
    {
     "data": {
      "text/plain": [
       "3141.0"
      ]
     },
     "execution_count": 8,
     "metadata": {},
     "output_type": "execute_result"
    }
   ],
   "source": [
    "50256/2/2/2/2 # Mult of 16"
   ]
  },
  {
   "cell_type": "code",
   "execution_count": 9,
   "metadata": {},
   "outputs": [
    {
     "data": {
      "text/plain": [
       "128"
      ]
     },
     "execution_count": 9,
     "metadata": {},
     "output_type": "execute_result"
    }
   ],
   "source": [
    "(2**7)"
   ]
  },
  {
   "cell_type": "code",
   "execution_count": 10,
   "metadata": {},
   "outputs": [],
   "source": [
    "example = tiny_stories_ds['train'][0]['text']"
   ]
  },
  {
   "cell_type": "code",
   "execution_count": 11,
   "metadata": {},
   "outputs": [
    {
     "data": {
      "text/plain": [
       "'One day, a little girl named Lily found a needle in her room. She knew it was difficult to play with it because it was sharp. Lily wanted to share the needle with her mom, so she could sew a button on her shirt.\\n\\nLily went to her mom and said, \"Mom, I found this needle. Can you share it with me and sew my shirt?\" Her mom smiled and said, \"Yes, Lily, we can share the needle and fix your shirt.\"\\n\\nTogether, they shared the needle and sewed the button on Lily\\'s shirt. It was not difficult for them because they were sharing and helping each other. After they finished, Lily thanked her mom for sharing the needle and fixing her shirt. They both felt happy because they had shared and worked together.'"
      ]
     },
     "execution_count": 11,
     "metadata": {},
     "output_type": "execute_result"
    }
   ],
   "source": [
    "example"
   ]
  },
  {
   "cell_type": "code",
   "execution_count": 12,
   "metadata": {},
   "outputs": [],
   "source": [
    "tokens_old = old_tokenizer.tokenize(example)"
   ]
  },
  {
   "cell_type": "code",
   "execution_count": 13,
   "metadata": {},
   "outputs": [
    {
     "data": {
      "text/plain": [
       "['One',\n",
       " 'Ġday',\n",
       " ',',\n",
       " 'Ġa',\n",
       " 'Ġlittle',\n",
       " 'Ġgirl',\n",
       " 'Ġnamed',\n",
       " 'ĠLily',\n",
       " 'Ġfound',\n",
       " 'Ġa',\n",
       " 'Ġneedle',\n",
       " 'Ġin',\n",
       " 'Ġher',\n",
       " 'Ġroom',\n",
       " '.',\n",
       " 'ĠShe',\n",
       " 'Ġknew',\n",
       " 'Ġit',\n",
       " 'Ġwas',\n",
       " 'Ġdifficult',\n",
       " 'Ġto',\n",
       " 'Ġplay',\n",
       " 'Ġwith',\n",
       " 'Ġit',\n",
       " 'Ġbecause',\n",
       " 'Ġit',\n",
       " 'Ġwas',\n",
       " 'Ġsharp',\n",
       " '.',\n",
       " 'ĠLily',\n",
       " 'Ġwanted',\n",
       " 'Ġto',\n",
       " 'Ġshare',\n",
       " 'Ġthe',\n",
       " 'Ġneedle',\n",
       " 'Ġwith',\n",
       " 'Ġher',\n",
       " 'Ġmom',\n",
       " ',',\n",
       " 'Ġso',\n",
       " 'Ġshe',\n",
       " 'Ġcould',\n",
       " 'Ġsew',\n",
       " 'Ġa',\n",
       " 'Ġbutton',\n",
       " 'Ġon',\n",
       " 'Ġher',\n",
       " 'Ġshirt',\n",
       " '.',\n",
       " 'Ċ',\n",
       " 'Ċ',\n",
       " 'L',\n",
       " 'ily',\n",
       " 'Ġwent',\n",
       " 'Ġto',\n",
       " 'Ġher',\n",
       " 'Ġmom',\n",
       " 'Ġand',\n",
       " 'Ġsaid',\n",
       " ',',\n",
       " 'Ġ\"',\n",
       " 'Mom',\n",
       " ',',\n",
       " 'ĠI',\n",
       " 'Ġfound',\n",
       " 'Ġthis',\n",
       " 'Ġneedle',\n",
       " '.',\n",
       " 'ĠCan',\n",
       " 'Ġyou',\n",
       " 'Ġshare',\n",
       " 'Ġit',\n",
       " 'Ġwith',\n",
       " 'Ġme',\n",
       " 'Ġand',\n",
       " 'Ġsew',\n",
       " 'Ġmy',\n",
       " 'Ġshirt',\n",
       " '?\"',\n",
       " 'ĠHer',\n",
       " 'Ġmom',\n",
       " 'Ġsmiled',\n",
       " 'Ġand',\n",
       " 'Ġsaid',\n",
       " ',',\n",
       " 'Ġ\"',\n",
       " 'Yes',\n",
       " ',',\n",
       " 'ĠLily',\n",
       " ',',\n",
       " 'Ġwe',\n",
       " 'Ġcan',\n",
       " 'Ġshare',\n",
       " 'Ġthe',\n",
       " 'Ġneedle',\n",
       " 'Ġand',\n",
       " 'Ġfix',\n",
       " 'Ġyour',\n",
       " 'Ġshirt',\n",
       " '.\"',\n",
       " 'Ċ',\n",
       " 'Ċ',\n",
       " 'Together',\n",
       " ',',\n",
       " 'Ġthey',\n",
       " 'Ġshared',\n",
       " 'Ġthe',\n",
       " 'Ġneedle',\n",
       " 'Ġand',\n",
       " 'Ġse',\n",
       " 'wed',\n",
       " 'Ġthe',\n",
       " 'Ġbutton',\n",
       " 'Ġon',\n",
       " 'ĠLily',\n",
       " \"'s\",\n",
       " 'Ġshirt',\n",
       " '.',\n",
       " 'ĠIt',\n",
       " 'Ġwas',\n",
       " 'Ġnot',\n",
       " 'Ġdifficult',\n",
       " 'Ġfor',\n",
       " 'Ġthem',\n",
       " 'Ġbecause',\n",
       " 'Ġthey',\n",
       " 'Ġwere',\n",
       " 'Ġsharing',\n",
       " 'Ġand',\n",
       " 'Ġhelping',\n",
       " 'Ġeach',\n",
       " 'Ġother',\n",
       " '.',\n",
       " 'ĠAfter',\n",
       " 'Ġthey',\n",
       " 'Ġfinished',\n",
       " ',',\n",
       " 'ĠLily',\n",
       " 'Ġthanked',\n",
       " 'Ġher',\n",
       " 'Ġmom',\n",
       " 'Ġfor',\n",
       " 'Ġsharing',\n",
       " 'Ġthe',\n",
       " 'Ġneedle',\n",
       " 'Ġand',\n",
       " 'Ġfixing',\n",
       " 'Ġher',\n",
       " 'Ġshirt',\n",
       " '.',\n",
       " 'ĠThey',\n",
       " 'Ġboth',\n",
       " 'Ġfelt',\n",
       " 'Ġhappy',\n",
       " 'Ġbecause',\n",
       " 'Ġthey',\n",
       " 'Ġhad',\n",
       " 'Ġshared',\n",
       " 'Ġand',\n",
       " 'Ġworked',\n",
       " 'Ġtogether',\n",
       " '.']"
      ]
     },
     "execution_count": 13,
     "metadata": {},
     "output_type": "execute_result"
    }
   ],
   "source": [
    "tokens_old"
   ]
  },
  {
   "cell_type": "code",
   "execution_count": 14,
   "metadata": {},
   "outputs": [
    {
     "data": {
      "text/plain": [
       "162"
      ]
     },
     "execution_count": 14,
     "metadata": {},
     "output_type": "execute_result"
    }
   ],
   "source": [
    "len(tokens_old)"
   ]
  },
  {
   "cell_type": "code",
   "execution_count": 15,
   "metadata": {},
   "outputs": [
    {
     "name": "stdout",
     "output_type": "stream",
     "text": [
      "\n",
      "\n",
      "\n"
     ]
    }
   ],
   "source": [
    "tokenizer = old_tokenizer.train_new_from_iterator(training_corpus,vocab_size=6400)#old_tokenizer.vocab_size)#, vocab_size=50304)"
   ]
  },
  {
   "cell_type": "code",
   "execution_count": 16,
   "metadata": {},
   "outputs": [
    {
     "data": {
      "text/plain": [
       "12800"
      ]
     },
     "execution_count": 16,
     "metadata": {},
     "output_type": "execute_result"
    }
   ],
   "source": [
    "tokenizer.vocab_size"
   ]
  },
  {
   "cell_type": "code",
   "execution_count": 17,
   "metadata": {},
   "outputs": [
    {
     "data": {
      "text/plain": [
       "'<|endoftext|>'"
      ]
     },
     "execution_count": 17,
     "metadata": {},
     "output_type": "execute_result"
    }
   ],
   "source": [
    "old_tokenizer.eos_token"
   ]
  },
  {
   "cell_type": "code",
   "execution_count": 18,
   "metadata": {},
   "outputs": [
    {
     "data": {
      "text/plain": [
       "'<|endoftext|>'"
      ]
     },
     "execution_count": 18,
     "metadata": {},
     "output_type": "execute_result"
    }
   ],
   "source": [
    "tokenizer.eos_token"
   ]
  },
  {
   "cell_type": "code",
   "execution_count": 19,
   "metadata": {},
   "outputs": [],
   "source": [
    "tokens_new = tokenizer.tokenize(example)"
   ]
  },
  {
   "cell_type": "code",
   "execution_count": 20,
   "metadata": {},
   "outputs": [
    {
     "data": {
      "text/plain": [
       "['One',\n",
       " 'Ġday',\n",
       " ',',\n",
       " 'Ġa',\n",
       " 'Ġlittle',\n",
       " 'Ġgirl',\n",
       " 'Ġnamed',\n",
       " 'ĠLily',\n",
       " 'Ġfound',\n",
       " 'Ġa',\n",
       " 'Ġneedle',\n",
       " 'Ġin',\n",
       " 'Ġher',\n",
       " 'Ġroom',\n",
       " '.',\n",
       " 'ĠShe',\n",
       " 'Ġknew',\n",
       " 'Ġit',\n",
       " 'Ġwas',\n",
       " 'Ġdifficult',\n",
       " 'Ġto',\n",
       " 'Ġplay',\n",
       " 'Ġwith',\n",
       " 'Ġit',\n",
       " 'Ġbecause',\n",
       " 'Ġit',\n",
       " 'Ġwas',\n",
       " 'Ġsharp',\n",
       " '.',\n",
       " 'ĠLily',\n",
       " 'Ġwanted',\n",
       " 'Ġto',\n",
       " 'Ġshare',\n",
       " 'Ġthe',\n",
       " 'Ġneedle',\n",
       " 'Ġwith',\n",
       " 'Ġher',\n",
       " 'Ġmom',\n",
       " ',',\n",
       " 'Ġso',\n",
       " 'Ġshe',\n",
       " 'Ġcould',\n",
       " 'Ġsew',\n",
       " 'Ġa',\n",
       " 'Ġbutton',\n",
       " 'Ġon',\n",
       " 'Ġher',\n",
       " 'Ġshirt',\n",
       " '.',\n",
       " 'Ċ',\n",
       " 'Ċ',\n",
       " 'Lily',\n",
       " 'Ġwent',\n",
       " 'Ġto',\n",
       " 'Ġher',\n",
       " 'Ġmom',\n",
       " 'Ġand',\n",
       " 'Ġsaid',\n",
       " ',',\n",
       " 'Ġ\"',\n",
       " 'Mom',\n",
       " ',',\n",
       " 'ĠI',\n",
       " 'Ġfound',\n",
       " 'Ġthis',\n",
       " 'Ġneedle',\n",
       " '.',\n",
       " 'ĠCan',\n",
       " 'Ġyou',\n",
       " 'Ġshare',\n",
       " 'Ġit',\n",
       " 'Ġwith',\n",
       " 'Ġme',\n",
       " 'Ġand',\n",
       " 'Ġsew',\n",
       " 'Ġmy',\n",
       " 'Ġshirt',\n",
       " '?\"',\n",
       " 'ĠHer',\n",
       " 'Ġmom',\n",
       " 'Ġsmiled',\n",
       " 'Ġand',\n",
       " 'Ġsaid',\n",
       " ',',\n",
       " 'Ġ\"',\n",
       " 'Yes',\n",
       " ',',\n",
       " 'ĠLily',\n",
       " ',',\n",
       " 'Ġwe',\n",
       " 'Ġcan',\n",
       " 'Ġshare',\n",
       " 'Ġthe',\n",
       " 'Ġneedle',\n",
       " 'Ġand',\n",
       " 'Ġfix',\n",
       " 'Ġyour',\n",
       " 'Ġshirt',\n",
       " '.\"',\n",
       " 'Ċ',\n",
       " 'Ċ',\n",
       " 'Together',\n",
       " ',',\n",
       " 'Ġthey',\n",
       " 'Ġshared',\n",
       " 'Ġthe',\n",
       " 'Ġneedle',\n",
       " 'Ġand',\n",
       " 'Ġsewed',\n",
       " 'Ġthe',\n",
       " 'Ġbutton',\n",
       " 'Ġon',\n",
       " 'ĠLily',\n",
       " \"'s\",\n",
       " 'Ġshirt',\n",
       " '.',\n",
       " 'ĠIt',\n",
       " 'Ġwas',\n",
       " 'Ġnot',\n",
       " 'Ġdifficult',\n",
       " 'Ġfor',\n",
       " 'Ġthem',\n",
       " 'Ġbecause',\n",
       " 'Ġthey',\n",
       " 'Ġwere',\n",
       " 'Ġsharing',\n",
       " 'Ġand',\n",
       " 'Ġhelping',\n",
       " 'Ġeach',\n",
       " 'Ġother',\n",
       " '.',\n",
       " 'ĠAfter',\n",
       " 'Ġthey',\n",
       " 'Ġfinished',\n",
       " ',',\n",
       " 'ĠLily',\n",
       " 'Ġthanked',\n",
       " 'Ġher',\n",
       " 'Ġmom',\n",
       " 'Ġfor',\n",
       " 'Ġsharing',\n",
       " 'Ġthe',\n",
       " 'Ġneedle',\n",
       " 'Ġand',\n",
       " 'Ġfixing',\n",
       " 'Ġher',\n",
       " 'Ġshirt',\n",
       " '.',\n",
       " 'ĠThey',\n",
       " 'Ġboth',\n",
       " 'Ġfelt',\n",
       " 'Ġhappy',\n",
       " 'Ġbecause',\n",
       " 'Ġthey',\n",
       " 'Ġhad',\n",
       " 'Ġshared',\n",
       " 'Ġand',\n",
       " 'Ġworked',\n",
       " 'Ġtogether',\n",
       " '.']"
      ]
     },
     "execution_count": 20,
     "metadata": {},
     "output_type": "execute_result"
    }
   ],
   "source": [
    "tokens_new"
   ]
  },
  {
   "cell_type": "code",
   "execution_count": 21,
   "metadata": {},
   "outputs": [
    {
     "data": {
      "text/plain": [
       "{\"'s\",\n",
       " ',',\n",
       " '.',\n",
       " '.\"',\n",
       " '?\"',\n",
       " 'Mom',\n",
       " 'One',\n",
       " 'Together',\n",
       " 'Yes',\n",
       " 'Ċ',\n",
       " 'Ġ\"',\n",
       " 'ĠAfter',\n",
       " 'ĠCan',\n",
       " 'ĠHer',\n",
       " 'ĠI',\n",
       " 'ĠIt',\n",
       " 'ĠLily',\n",
       " 'ĠShe',\n",
       " 'ĠThey',\n",
       " 'Ġa',\n",
       " 'Ġand',\n",
       " 'Ġbecause',\n",
       " 'Ġboth',\n",
       " 'Ġbutton',\n",
       " 'Ġcan',\n",
       " 'Ġcould',\n",
       " 'Ġday',\n",
       " 'Ġdifficult',\n",
       " 'Ġeach',\n",
       " 'Ġfelt',\n",
       " 'Ġfinished',\n",
       " 'Ġfix',\n",
       " 'Ġfixing',\n",
       " 'Ġfor',\n",
       " 'Ġfound',\n",
       " 'Ġgirl',\n",
       " 'Ġhad',\n",
       " 'Ġhappy',\n",
       " 'Ġhelping',\n",
       " 'Ġher',\n",
       " 'Ġin',\n",
       " 'Ġit',\n",
       " 'Ġknew',\n",
       " 'Ġlittle',\n",
       " 'Ġme',\n",
       " 'Ġmom',\n",
       " 'Ġmy',\n",
       " 'Ġnamed',\n",
       " 'Ġneedle',\n",
       " 'Ġnot',\n",
       " 'Ġon',\n",
       " 'Ġother',\n",
       " 'Ġplay',\n",
       " 'Ġroom',\n",
       " 'Ġsaid',\n",
       " 'Ġsew',\n",
       " 'Ġshare',\n",
       " 'Ġshared',\n",
       " 'Ġsharing',\n",
       " 'Ġsharp',\n",
       " 'Ġshe',\n",
       " 'Ġshirt',\n",
       " 'Ġsmiled',\n",
       " 'Ġso',\n",
       " 'Ġthanked',\n",
       " 'Ġthe',\n",
       " 'Ġthem',\n",
       " 'Ġthey',\n",
       " 'Ġthis',\n",
       " 'Ġto',\n",
       " 'Ġtogether',\n",
       " 'Ġwanted',\n",
       " 'Ġwas',\n",
       " 'Ġwe',\n",
       " 'Ġwent',\n",
       " 'Ġwere',\n",
       " 'Ġwith',\n",
       " 'Ġworked',\n",
       " 'Ġyou',\n",
       " 'Ġyour'}"
      ]
     },
     "execution_count": 21,
     "metadata": {},
     "output_type": "execute_result"
    }
   ],
   "source": [
    "set(tokens_new) & set(tokens_old)"
   ]
  },
  {
   "cell_type": "code",
   "execution_count": 22,
   "metadata": {},
   "outputs": [],
   "source": [
    "new_minus_old = set(tokens_new) - set(tokens_old)"
   ]
  },
  {
   "cell_type": "code",
   "execution_count": 23,
   "metadata": {},
   "outputs": [
    {
     "data": {
      "text/plain": [
       "'One day, a little girl named Lily found a needle in her room. She knew it was difficult to play with it because it was sharp. Lily wanted to share the needle with her mom, so she could sew a button on her shirt.\\n\\nLily went to her mom and said, \"Mom, I found this needle. Can you share it with me and sew my shirt?\" Her mom smiled and said, \"Yes, Lily, we can share the needle and fix your shirt.\"\\n\\nTogether, they shared the needle and sewed the button on Lily\\'s shirt. It was not difficult for them because they were sharing and helping each other. After they finished, Lily thanked her mom for sharing the needle and fixing her shirt. They both felt happy because they had shared and worked together.'"
      ]
     },
     "execution_count": 23,
     "metadata": {},
     "output_type": "execute_result"
    }
   ],
   "source": [
    "tokenizer.decode(tokenizer.encode(example))"
   ]
  },
  {
   "cell_type": "markdown",
   "metadata": {},
   "source": [
    "- Appears to work as expected"
   ]
  },
  {
   "cell_type": "code",
   "execution_count": 24,
   "metadata": {},
   "outputs": [
    {
     "data": {
      "text/plain": [
       "{'L', 'ily', 'wed', 'Ġse'}"
      ]
     },
     "execution_count": 24,
     "metadata": {},
     "output_type": "execute_result"
    }
   ],
   "source": [
    "set(tokens_old) - set(tokens_new)"
   ]
  },
  {
   "cell_type": "markdown",
   "metadata": {},
   "source": [
    "- Exclusively old tokens are not full French word, at best their closest English counterparts (eg, Person not Personne, Command not Commande, etc)"
   ]
  },
  {
   "cell_type": "code",
   "execution_count": 25,
   "metadata": {},
   "outputs": [
    {
     "data": {
      "text/plain": [
       "('./tokenizer/tiny_stories_tokenizer/tokenizer_config.json',\n",
       " './tokenizer/tiny_stories_tokenizer/special_tokens_map.json',\n",
       " './tokenizer/tiny_stories_tokenizer/vocab.json',\n",
       " './tokenizer/tiny_stories_tokenizer/merges.txt',\n",
       " './tokenizer/tiny_stories_tokenizer/added_tokens.json',\n",
       " './tokenizer/tiny_stories_tokenizer/tokenizer.json')"
      ]
     },
     "execution_count": 25,
     "metadata": {},
     "output_type": "execute_result"
    }
   ],
   "source": [
    "tokenizer.save_pretrained('./tokenizer/tiny_stories_tokenizer')"
   ]
  },
  {
   "cell_type": "code",
   "execution_count": 26,
   "metadata": {},
   "outputs": [
    {
     "data": {
      "text/plain": [
       "[0]"
      ]
     },
     "execution_count": 26,
     "metadata": {},
     "output_type": "execute_result"
    }
   ],
   "source": [
    "tokenizer.encode(tokenizer.eos_token)"
   ]
  },
  {
   "cell_type": "code",
   "execution_count": 27,
   "metadata": {},
   "outputs": [
    {
     "data": {
      "text/plain": [
       "'<|endoftext|>'"
      ]
     },
     "execution_count": 27,
     "metadata": {},
     "output_type": "execute_result"
    }
   ],
   "source": [
    "tokenizer.decode([0])"
   ]
  },
  {
   "cell_type": "code",
   "execution_count": 28,
   "metadata": {},
   "outputs": [
    {
     "data": {
      "text/plain": [
       "([634], [446], [537], [648], [365], [701], [364])"
      ]
     },
     "execution_count": 28,
     "metadata": {},
     "output_type": "execute_result"
    }
   ],
   "source": [
    "tokenizer.encode(' dog'),tokenizer.encode(' girl'), tokenizer.encode(' bird'),tokenizer.encode(' dad'),tokenizer.encode(' mom'),tokenizer.encode(' cat'),tokenizer.encode(' Lily')"
   ]
  },
  {
   "cell_type": "code",
   "execution_count": 29,
   "metadata": {},
   "outputs": [
    {
     "data": {
      "text/plain": [
       "' dog girl'"
      ]
     },
     "execution_count": 29,
     "metadata": {},
     "output_type": "execute_result"
    }
   ],
   "source": [
    "tokenizer.decode([634, 446])"
   ]
  },
  {
   "cell_type": "code",
   "execution_count": null,
   "metadata": {},
   "outputs": [],
   "source": []
  }
 ],
 "metadata": {
  "kernelspec": {
   "display_name": "dl",
   "language": "python",
   "name": "python3"
  },
  "language_info": {
   "codemirror_mode": {
    "name": "ipython",
    "version": 3
   },
   "file_extension": ".py",
   "mimetype": "text/x-python",
   "name": "python",
   "nbconvert_exporter": "python",
   "pygments_lexer": "ipython3",
   "version": "3.11.9"
  }
 },
 "nbformat": 4,
 "nbformat_minor": 2
}
