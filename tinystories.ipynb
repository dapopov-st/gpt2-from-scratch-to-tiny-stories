{
 "cells": [
  {
   "cell_type": "code",
   "execution_count": 1,
   "metadata": {},
   "outputs": [
    {
     "name": "stderr",
     "output_type": "stream",
     "text": [
      "/home/mainuser/anaconda3/envs/mintonano/lib/python3.11/site-packages/tqdm/auto.py:21: TqdmWarning: IProgress not found. Please update jupyter and ipywidgets. See https://ipywidgets.readthedocs.io/en/stable/user_install.html\n",
      "  from .autonotebook import tqdm as notebook_tqdm\n"
     ]
    }
   ],
   "source": [
    "import os\n",
    "from tqdm import tqdm\n",
    "import numpy as np\n",
    "from datasets import load_dataset # huggingface datasets\n",
    "\n",
    "num_proc = 8\n",
    "num_proc_load_dataset = num_proc"
   ]
  },
  {
   "cell_type": "code",
   "execution_count": 2,
   "metadata": {},
   "outputs": [],
   "source": [
    "\n",
    "from transformers import AutoTokenizer\n",
    "tokenizer = enc = AutoTokenizer.from_pretrained(\"tokenizer/tiny_stories_tokenizer\")\n",
    "tokenizer.pad_token = tokenizer.eos_token\n"
   ]
  },
  {
   "cell_type": "code",
   "execution_count": 3,
   "metadata": {},
   "outputs": [
    {
     "data": {
      "text/plain": [
       "6400"
      ]
     },
     "execution_count": 3,
     "metadata": {},
     "output_type": "execute_result"
    }
   ],
   "source": [
    "tokenizer.vocab_size"
   ]
  },
  {
   "cell_type": "code",
   "execution_count": 4,
   "metadata": {},
   "outputs": [
    {
     "name": "stderr",
     "output_type": "stream",
     "text": [
      "Saving the dataset (4/4 shards): 100%|██████████| 2119719/2119719 [00:02<00:00, 903508.41 examples/s] \n",
      "Saving the dataset (1/1 shards): 100%|██████████| 21990/21990 [00:00<00:00, 817673.43 examples/s]\n"
     ]
    }
   ],
   "source": [
    "tinystories_ds = load_dataset(\"roneneldan/TinyStories\")\n",
    "\n",
    "#tinystories_ds.save_to_disk(\"data/tinystories\")"
   ]
  },
  {
   "cell_type": "code",
   "execution_count": 5,
   "metadata": {},
   "outputs": [],
   "source": [
    "if __name__ == '__main__':\n",
    "    # takes 54GB in huggingface .cache dir, about 8M documents (8,013,769)\n",
    "    #dataset = load_dataset(\"data/tinystories\", num_proc=num_proc_load_dataset)\n",
    "    dataset = load_dataset(\"roneneldan/TinyStories\", num_proc=num_proc_load_dataset)\n",
    "    tokenizer.pad_token = eot= tokenizer.eos_token"
   ]
  },
  {
   "cell_type": "code",
   "execution_count": 6,
   "metadata": {},
   "outputs": [
    {
     "data": {
      "text/plain": [
       "[0]"
      ]
     },
     "execution_count": 6,
     "metadata": {},
     "output_type": "execute_result"
    }
   ],
   "source": [
    "tokenizer.encode(eot)"
   ]
  },
  {
   "cell_type": "code",
   "execution_count": 7,
   "metadata": {},
   "outputs": [
    {
     "data": {
      "text/plain": [
       "[265]"
      ]
     },
     "execution_count": 7,
     "metadata": {},
     "output_type": "execute_result"
    }
   ],
   "source": [
    "tokenizer.encode(' and')"
   ]
  },
  {
   "cell_type": "code",
   "execution_count": 8,
   "metadata": {},
   "outputs": [
    {
     "data": {
      "text/plain": [
       "'and'"
      ]
     },
     "execution_count": 8,
     "metadata": {},
     "output_type": "execute_result"
    }
   ],
   "source": [
    "tokenizer.decode([723])"
   ]
  },
  {
   "cell_type": "code",
   "execution_count": 9,
   "metadata": {},
   "outputs": [
    {
     "data": {
      "text/plain": [
       "0"
      ]
     },
     "execution_count": 9,
     "metadata": {},
     "output_type": "execute_result"
    }
   ],
   "source": [
    "tokenizer.encode(tokenizer.eos_token)[0]"
   ]
  },
  {
   "cell_type": "code",
   "execution_count": 10,
   "metadata": {},
   "outputs": [
    {
     "data": {
      "text/plain": [
       "{'text': ['One day, a little girl named Lily found a needle in her room. She knew it was difficult to play with it because it was sharp. Lily wanted to share the needle with her mom, so she could sew a button on her shirt.\\n\\nLily went to her mom and said, \"Mom, I found this needle. Can you share it with me and sew my shirt?\" Her mom smiled and said, \"Yes, Lily, we can share the needle and fix your shirt.\"\\n\\nTogether, they shared the needle and sewed the button on Lily\\'s shirt. It was not difficult for them because they were sharing and helping each other. After they finished, Lily thanked her mom for sharing the needle and fixing her shirt. They both felt happy because they had shared and worked together.',\n",
       "  'Once upon a time, there was a little car named Beep. Beep loved to go fast and play in the sun. Beep was a healthy car because he always had good fuel. Good fuel made Beep happy and strong.\\n\\nOne day, Beep was driving in the park when he saw a big tree. The tree had many leaves that were falling. Beep liked how the leaves fall and wanted to play with them. Beep drove under the tree and watched the leaves fall on him. He laughed and beeped his horn.\\n\\nBeep played with the falling leaves all day. When it was time to go home, Beep knew he needed more fuel. He went to the fuel place and got more healthy fuel. Now, Beep was ready to go fast and play again the next day. And Beep lived happily ever after.',\n",
       "  'One day, a little fish named Fin was swimming near the shore. He saw a big crab and wanted to be friends. \"Hi, I am Fin. Do you want to play?\" asked the little fish. The crab looked at Fin and said, \"No, I don\\'t want to play. I am cold and I don\\'t feel fine.\"\\n\\nFin felt sad but wanted to help the crab feel better. He swam away and thought of a plan. He remembered that the sun could make things warm. So, Fin swam to the top of the water and called to the sun, \"Please, sun, help my new friend feel fine and not freeze!\"\\n\\nThe sun heard Fin\\'s call and shone its warm light on the shore. The crab started to feel better and not so cold. He saw Fin and said, \"Thank you, little fish, for making me feel fine. I don\\'t feel like I will freeze now. Let\\'s play together!\" And so, Fin and the crab played and became good friends.',\n",
       "  'Once upon a time, in a land full of trees, there was a little cherry tree. The cherry tree was very sad because it did not have any friends. All the other trees were big and strong, but the cherry tree was small and weak. The cherry tree was envious of the big trees.\\n\\nOne day, the cherry tree felt a tickle in its branches. It was a little spring wind. The wind told the cherry tree not to be sad. The wind said, \"You are special because you have sweet cherries that everyone loves.\" The cherry tree started to feel a little better.\\n\\nAs time went on, the cherry tree grew more and more cherries. All the animals in the land came to eat the cherries and play under the cherry tree. The cherry tree was happy because it had many friends now. The cherry tree learned that being different can be a good thing. And they all lived happily ever after.',\n",
       "  'Once upon a time, there was a little girl named Lily. Lily liked to pretend she was a popular princess. She lived in a big castle with her best friends, a cat and a dog.\\n\\nOne day, while playing in the castle, Lily found a big cobweb. The cobweb was in the way of her fun game. She wanted to get rid of it, but she was scared of the spider that lived there.\\n\\nLily asked her friends, the cat and the dog, to help her. They all worked together to clean the cobweb. The spider was sad, but it found a new home outside. Lily, the cat, and the dog were happy they could play without the cobweb in the way. And they all lived happily ever after.',\n",
       "  'Once upon a time, in a big lake, there was a brown kayak. The brown kayak liked to roll in the water all day long. It was very happy when it could roll and splash in the lake.\\n\\nOne day, a little boy named Tim came to play with the brown kayak. Tim and the brown kayak rolled in the water together. They laughed and had a lot of fun. The sun was shining, and the water was warm.\\n\\nAfter a while, it was time for Tim to go home. He said goodbye to the brown kayak and gave it a big hug. The brown kayak was sad to see Tim go, but it knew they would play together again soon. So, the brown kayak kept rolling in the water, waiting for the next fun day with Tim.',\n",
       "  'Once upon a time, in a small town, there was a troubled little girl named Lily. She was always sad because she lost her favorite toy, a triangle. She looked everywhere in her house but could not find it.\\n\\nOne sunny day, Lily went to the park to play. She saw a big puddle of water and thought her triangle might be there. She put her hand in the water to soak it and looked for her toy. She felt something at the bottom of the puddle.\\n\\nLily pulled it out and saw that it was her triangle! She was so happy that she found it. From that day on, Lily was never troubled again. She played with her triangle every day and always kept it close to her. And when she saw puddles, she would smile and remember how she found her toy.',\n",
       "  'Once upon a time, in a peaceful town, there lived a little boy named Tim. Tim loved to run and play outside. One day, Tim saw a race in the park. He was excited and wanted to join the race.\\n\\nTim went to his friend, Sarah, and said, \"Let\\'s start the race!\" Sarah smiled and said, \"Yes, let\\'s go!\" They lined up with the other kids and waited for the race to begin. When they heard the word \"Go!\", they started running as fast as they could.\\n\\nTim and Sarah ran with all their speed, laughing and having fun. They could feel the wind in their hair as they raced to the finish line. In the end, Tim won the race and Sarah came in second. They were both so happy and proud of themselves. They celebrated with their friends and had a great day at the park.',\n",
       "  'Once upon a time, there was a clever little dog named Max. Max loved to run and play with his friends in the park. One day, Max was running very fast when he fell and hurt his knee.\\n\\nMax went to his friend, the wise old owl, and said, \"Owl, my knee hurts. What can I do?\" The owl thought for a moment and said, \"Max, you should test your knee. Try to walk slowly and see if it still hurts.\"\\n\\nSo Max tested his knee by walking slowly. At first, it hurt a little, but soon Max felt better. He said, \"Thank you, Owl, for your help. Now I can play with my friends again.\"\\n\\nMax was so happy that he could play with his friends without pain. He learned that sometimes, it was good to slow down and listen to his body. And Max and his friends played happily in the park ever after.',\n",
       "  'One day, a fast driver named Tim went for a ride in his loud car. He loved to speed down the street and feel the wind in his hair. As he drove, he saw his friend, Sam, standing by the road.\\n\\n\"Hi, Sam!\" Tim called out. \"Do you want to go for a ride?\"\\n\\n\"Yes, please!\" Sam said, and he got in the car. They drove around the town, going fast and having fun. The car was very loud, and everyone could hear them coming.\\n\\nAt last, they stopped at the park to play. They ran and laughed until it was time to go home. Tim and Sam had a great day together, speeding in the loud car and playing in the park.']}"
      ]
     },
     "execution_count": 10,
     "metadata": {},
     "output_type": "execute_result"
    }
   ],
   "source": [
    "dataset['train'][:10]"
   ]
  },
  {
   "cell_type": "code",
   "execution_count": 11,
   "metadata": {},
   "outputs": [],
   "source": [
    "def process(example):\n",
    "    ids = tokenizer.encode(example['text']) # tiktoken doesn't have max seq length, HF does\n",
    "    #ids = enc.encode_ordinary(example['text']) # encode_ordinary ignores any special tokens\n",
    "    #ids = ids[:1023]\n",
    "    #print(f\"eos token is {tokenizer.encode(tokenizer.eos_token)}\")\n",
    "    ids.append(tokenizer.encode(tokenizer.eos_token)[0]) #token 1024\n",
    "    #ids.append(enc.eot_token) # add the end of text token, e.g. 50256 for gpt2 bpe\n",
    "    # note: I think eot should be prepended not appended... hmm. it's called \"eot\" though...\n",
    "    out = {'ids': ids, 'len': len(ids)}\n",
    "    return out"
   ]
  },
  {
   "cell_type": "code",
   "execution_count": 12,
   "metadata": {},
   "outputs": [
    {
     "name": "stderr",
     "output_type": "stream",
     "text": [
      "Map:  79%|███████▉  | 7883/10000 [00:01<00:00, 4147.86 examples/s]Token indices sequence length is longer than the specified maximum sequence length for this model (1079 > 1024). Running this sequence through the model will result in indexing errors\n",
      "Map: 100%|██████████| 10000/10000 [00:02<00:00, 4053.18 examples/s]\n"
     ]
    }
   ],
   "source": [
    "subs = dataset['train'].shuffle().select(range(10000)).map(process).to_pandas()"
   ]
  },
  {
   "cell_type": "code",
   "execution_count": 13,
   "metadata": {},
   "outputs": [
    {
     "name": "stdout",
     "output_type": "stream",
     "text": [
      "                len\n",
      "count  10000.000000\n",
      "mean     221.919600\n",
      "std      107.799981\n",
      "min        1.000000\n",
      "25%      162.000000\n",
      "50%      190.000000\n",
      "75%      233.000000\n",
      "max     1080.000000\n",
      "99.9th percentile with tokenizer of size 6400: 853.0560000000114\n"
     ]
    }
   ],
   "source": [
    "print(subs.describe()); print(f\"99.9th percentile with tokenizer of size {tokenizer.vocab_size}: {subs['len'].quantile(.999)}\")"
   ]
  },
  {
   "cell_type": "code",
   "execution_count": 35,
   "metadata": {},
   "outputs": [
    {
     "name": "stdout",
     "output_type": "stream",
     "text": [
      "                len\n",
      "count  10000.000000\n",
      "mean     221.919600\n",
      "std      107.799981\n",
      "min        1.000000\n",
      "25%      162.000000\n",
      "50%      190.000000\n",
      "75%      233.000000\n",
      "max     1080.000000\n",
      "98th percentile with tokenizer of size 6400: 512.0\n"
     ]
    }
   ],
   "source": [
    "print(subs.describe()); print(f\"98th percentile with tokenizer of size {tokenizer.vocab_size}: {subs['len'].quantile(.9675)}\")"
   ]
  },
  {
   "cell_type": "code",
   "execution_count": 14,
   "metadata": {},
   "outputs": [
    {
     "data": {
      "text/html": [
       "<div>\n",
       "<style scoped>\n",
       "    .dataframe tbody tr th:only-of-type {\n",
       "        vertical-align: middle;\n",
       "    }\n",
       "\n",
       "    .dataframe tbody tr th {\n",
       "        vertical-align: top;\n",
       "    }\n",
       "\n",
       "    .dataframe thead th {\n",
       "        text-align: right;\n",
       "    }\n",
       "</style>\n",
       "<table border=\"1\" class=\"dataframe\">\n",
       "  <thead>\n",
       "    <tr style=\"text-align: right;\">\n",
       "      <th></th>\n",
       "      <th>text</th>\n",
       "      <th>ids</th>\n",
       "      <th>len</th>\n",
       "    </tr>\n",
       "  </thead>\n",
       "  <tbody>\n",
       "    <tr>\n",
       "      <th>0</th>\n",
       "      <td>Sara liked to dream. She dreamed of many thing...</td>\n",
       "      <td>[1163, 615, 266, 1424, 14, 313, 3099, 347, 790...</td>\n",
       "      <td>355</td>\n",
       "    </tr>\n",
       "    <tr>\n",
       "      <th>1</th>\n",
       "      <td>Once upon a time there was a small dog called ...</td>\n",
       "      <td>[431, 447, 259, 396, 399, 282, 259, 795, 634, ...</td>\n",
       "      <td>168</td>\n",
       "    </tr>\n",
       "    <tr>\n",
       "      <th>2</th>\n",
       "      <td>One day, a zebra named Zara was walking in the...</td>\n",
       "      <td>[420, 356, 12, 259, 3457, 500, 2692, 625, 282,...</td>\n",
       "      <td>156</td>\n",
       "    </tr>\n",
       "    <tr>\n",
       "      <th>3</th>\n",
       "      <td>Once upon a time, there was a brave knight nam...</td>\n",
       "      <td>[431, 447, 259, 396, 12, 399, 282, 259, 921, 2...</td>\n",
       "      <td>220</td>\n",
       "    </tr>\n",
       "    <tr>\n",
       "      <th>4</th>\n",
       "      <td>Once there was a little girl who was eager to ...</td>\n",
       "      <td>[431, 399, 282, 259, 397, 446, 592, 282, 2867,...</td>\n",
       "      <td>171</td>\n",
       "    </tr>\n",
       "  </tbody>\n",
       "</table>\n",
       "</div>"
      ],
      "text/plain": [
       "                                                text  \\\n",
       "0  Sara liked to dream. She dreamed of many thing...   \n",
       "1  Once upon a time there was a small dog called ...   \n",
       "2  One day, a zebra named Zara was walking in the...   \n",
       "3  Once upon a time, there was a brave knight nam...   \n",
       "4  Once there was a little girl who was eager to ...   \n",
       "\n",
       "                                                 ids  len  \n",
       "0  [1163, 615, 266, 1424, 14, 313, 3099, 347, 790...  355  \n",
       "1  [431, 447, 259, 396, 399, 282, 259, 795, 634, ...  168  \n",
       "2  [420, 356, 12, 259, 3457, 500, 2692, 625, 282,...  156  \n",
       "3  [431, 447, 259, 396, 12, 399, 282, 259, 921, 2...  220  \n",
       "4  [431, 399, 282, 259, 397, 446, 592, 282, 2867,...  171  "
      ]
     },
     "execution_count": 14,
     "metadata": {},
     "output_type": "execute_result"
    }
   ],
   "source": [
    "subs.head()"
   ]
  },
  {
   "cell_type": "code",
   "execution_count": 15,
   "metadata": {},
   "outputs": [
    {
     "data": {
      "text/plain": [
       "1080"
      ]
     },
     "execution_count": 15,
     "metadata": {},
     "output_type": "execute_result"
    }
   ],
   "source": [
    "mx=subs['len'].max()\n",
    "mx"
   ]
  },
  {
   "cell_type": "code",
   "execution_count": 16,
   "metadata": {},
   "outputs": [],
   "source": [
    "longest=subs[subs.len==mx]['text']"
   ]
  },
  {
   "cell_type": "code",
   "execution_count": 17,
   "metadata": {},
   "outputs": [
    {
     "data": {
      "text/plain": [
       "array([ 980,  265,  839, ...,    2, 1666,    0])"
      ]
     },
     "execution_count": 17,
     "metadata": {},
     "output_type": "execute_result"
    }
   ],
   "source": [
    "subs[subs.len==mx]['ids'].values[0]"
   ]
  },
  {
   "cell_type": "code",
   "execution_count": 18,
   "metadata": {},
   "outputs": [
    {
     "data": {
      "text/plain": [
       "'Ben and Mia were at the beach with their mom and dad. They saw a big boat with many people on it. The people had nets and hooks. They wanted to catch the dolphins that lived in the water.\\n\\n\"Look, mom, dolphins!\" Ben said, pointing at the shiny gray animals that jumped and played in the waves.\\n\\n\"Yes, they are beautiful, aren\\'t they?\" mom said, smiling. \"But we have to be careful. Some people are selfish and want to hurt them.\"\\n\\n\"Why?\" Mia asked, frowning. \"Dolphins are nice and smart. They are our friends.\"\\n\\n\"Some people don\\'t care about that. They only want to make money or have fun. They don\\'t think about how the dolphins feel.\" mom said, sadly.\\n\\nSuddenly, they heard a loud splash and a cry. One of the dolphins was caught in a net. The people on the boat were pulling it up. The dolphin was scared and hurt. It tried to wiggle and escape, but it couldn\\'t.\\n\\n\"Help, help!\" the dolphin said, in a way that only dolphins and some children can understand.\\n\\nBen and Mia heard it. They felt sorry for the dolphin. They wanted to help it.\\n\\n\"Mom, dad, can we do something?\" Ben asked, looking at his parents.\\n\\n\"I don\\'t know, son. It\\'s very dangerous. Those people might get angry if we interfere.\" dad said, worried.\\n\\n\"But we can\\'t just watch. It\\'s not fair. It\\'s not right.\" Mia said, bravely.\\n\\nShe had an idea. She took off her pink scarf and ran to the water. She waved it at the dolphin, trying to get its attention.\\n\\n\"Hey, dolphin, look here!\" she shouted. \"I have something for you. It\\'s a gift. It\\'s soft and warm. It can make you feel better.\"\\n\\nThe dolphin saw her. It was curious. It liked the bright color of the scarf. It hoped that the girl was friendly.\\n\\n\"Thank you, girl. What is it?\" the dolphin asked, in its own language.\\n\\n\"It\\'s a scarf. You can wrap it around your neck or your tail. It can protect you from the net and the hooks. It can also make you look pretty.\" Mia said, smiling.\\n\\nShe threw the scarf into the water. The dolphin caught it with its mouth. It wrapped it around its tail. It felt a little bit of relief. It also felt a little bit of hope.\\n\\n\"Wow, it\\'s nice. I like it. You are very kind.\" the dolphin said, gratefully.\\n\\n\"You\\'re welcome. I\\'m Mia. What\\'s your name?\" Mia asked, friendly.\\n\\n\"I\\'m Dora. I\\'m happy to meet you, Mia.\" the dolphin said, happily.\\n\\nBen joined his sister at the water. He also wanted to talk to the dolphin. He brought his blue hat with him. He thought the dolphin might like it too.\\n\\n\"Hi, Dora. I\\'m Ben. I have something for you too. It\\'s a hat. You can wear it on your head. It can keep you cool and shady. It can also make you look cool.\" Ben said, proudly.\\n\\nHe tossed his hat into the water. The dolphin caught it with its mouth. It put it on its head. It felt a little bit of comfort. It also felt a little bit of fun.\\n\\n\"Wow, it\\'s cool. I like it. You are very nice.\" the dolphin said, cheerfully.\\n\\n\"You\\'re welcome. I\\'m glad you like it.\" Ben said, happily.\\n\\nMom and dad watched their children and the dolphin. They were amazed and proud. They also felt a little bit of anger. They didn\\'t like the people on the boat. They thought they were selfish and mean. They wished they would leave the dolphins alone.\\n\\n\"Look, honey, our kids are amazing. They are so brave and generous. They are making friends with a dolphin.\" mom said, softly.\\n\\n\"Yes, they are. They are also very smart and creative. They are using their clothes as tools and gifts. They are helping the dolphin escape.\" dad said, softly.\\n\\nThey were right. The dolphin was using the scarf and the hat to free itself from the net. It pulled and pushed and twisted and turned. It made a hole in the net. It slipped out of it. It was free.\\n\\n\"Yay, Dora, you did it!\" Mia and Ben cheered, clapping their hands.\\n\\n\"Thank you, Mia and Ben. You saved me. You are my heroes. You are my friends.\" Dora said, joyfully.\\n\\nShe splashed them with water. She gave them a big smile. She invited them to play with her.\\n\\n\"Come on, Mia and Ben. Let\\'s play. Let\\'s have fun. Let\\'s be happy.\" Dora said, excitedly.\\n\\n\"Okay<|endoftext|>'"
      ]
     },
     "execution_count": 18,
     "metadata": {},
     "output_type": "execute_result"
    }
   ],
   "source": [
    "tokenizer.decode(subs[subs.len==mx]['ids'].values[0])"
   ]
  },
  {
   "cell_type": "code",
   "execution_count": 19,
   "metadata": {},
   "outputs": [
    {
     "data": {
      "image/png": "[encoded data removed]",
      "text/plain": [
       "<Figure size 640x480 with 1 Axes>"
      ]
     },
     "metadata": {},
     "output_type": "display_data"
    }
   ],
   "source": [
    "hst=subs['len'].hist()\n",
    "hst.set_title(f'Histogram of tokenized sequence lengths with vocab size of {tokenizer.vocab_size}*')\n",
    "hst.set_xlabel(\"*random subset of length 10000 was taken\")\n",
    "hst.grid(False)"
   ]
  },
  {
   "cell_type": "code",
   "execution_count": 20,
   "metadata": {},
   "outputs": [
    {
     "data": {
      "text/plain": [
       "'Ben and Mia were at the beach with their mom and dad. They saw a big boat with many people on it. The people had nets and hooks. They wanted to catch the dolphins that lived in the water.\\n\\n\"Look, mom, dolphins!\" Ben said, pointing at the shiny gray animals that jumped and played in the waves.\\n\\n\"Yes, they are beautiful, aren\\'t they?\" mom said, smiling. \"But we have to be careful. Some people are selfish and want to hurt them.\"\\n\\n\"Why?\" Mia asked, frowning. \"Dolphins are nice and smart. They are our friends.\"\\n\\n\"Some people don\\'t care about that. They only want to make money or have fun. They don\\'t think about how the dolphins feel.\" mom said, sadly.\\n\\nSuddenly, they heard a loud splash and a cry. One of the dolphins was caught in a net. The people on the boat were pulling it up. The dolphin was scared and hurt. It tried to wiggle and escape, but it couldn\\'t.\\n\\n\"Help, help!\" the dolphin said, in a way that only dolphins and some children can understand.\\n\\nBen and Mia heard it. They felt sorry for the dolphin. They wanted to help it.\\n\\n\"Mom, dad, can we do something?\" Ben asked, looking at his parents.\\n\\n\"I don\\'t know, son. It\\'s very dangerous. Those people might get angry if we interfere.\" dad said, worried.\\n\\n\"But we can\\'t just watch. It\\'s not fair. It\\'s not right.\" Mia said, bravely.\\n\\nShe had an idea. She took off her pink scarf and ran to the water. She waved it at the dolphin, trying to get its attention.\\n\\n\"Hey, dolphin, look here!\" she shouted. \"I have something for you. It\\'s a gift. It\\'s soft and warm. It can make you feel better.\"\\n\\nThe dolphin saw her. It was curious. It liked the bright color of the scarf. It hoped that the girl was friendly.\\n\\n\"Thank you, girl. What is it?\" the dolphin asked, in its own language.\\n\\n\"It\\'s a scarf. You can wrap it around your neck or your tail. It can protect you from the net and the hooks. It can also make you look pretty.\" Mia said, smiling.\\n\\nShe threw the scarf into the water. The dolphin caught it with its mouth. It wrapped it around its tail. It felt a little bit of relief. It also felt a little bit of hope.\\n\\n\"Wow, it\\'s nice. I like it. You are very kind.\" the dolphin said, gratefully.\\n\\n\"You\\'re welcome. I\\'m Mia. What\\'s your name?\" Mia asked, friendly.\\n\\n\"I\\'m Dora. I\\'m happy to meet you, Mia.\" the dolphin said, happily.\\n\\nBen joined his sister at the water. He also wanted to talk to the dolphin. He brought his blue hat with him. He thought the dolphin might like it too.\\n\\n\"Hi, Dora. I\\'m Ben. I have something for you too. It\\'s a hat. You can wear it on your head. It can keep you cool and shady. It can also make you look cool.\" Ben said, proudly.\\n\\nHe tossed his hat into the water. The dolphin caught it with its mouth. It put it on its head. It felt a little bit of comfort. It also felt a little bit of fun.\\n\\n\"Wow, it\\'s cool. I like it. You are very nice.\" the dolphin said, cheerfully.\\n\\n\"You\\'re welcome. I\\'m glad you like it.\" Ben said, happily.\\n\\nMom and dad watched their children and the dolphin. They were amazed and proud. They also felt a little bit of anger. They didn\\'t like the people on the boat. They thought they were selfish and mean. They wished they would leave the dolphins alone.\\n\\n\"Look, honey, our kids are amazing. They are so brave and generous. They are making friends with a dolphin.\" mom said, softly.\\n\\n\"Yes, they are. They are also very smart and creative. They are using their clothes as tools and gifts. They are helping the dolphin escape.\" dad said, softly.\\n\\nThey were right. The dolphin was using the scarf and the hat to free itself from the net. It pulled and pushed and twisted and turned. It made a hole in the net. It slipped out of it. It was free.\\n\\n\"Yay, Dora, you did it!\" Mia and Ben cheered, clapping their hands.\\n\\n\"Thank you, Mia and Ben. You saved me. You are my heroes. You are my friends.\" Dora said, joyfully.\\n\\nShe splashed them with water. She gave them a big smile. She invited them to play with her.\\n\\n\"Come on, Mia and Ben. Let\\'s play. Let\\'s have fun. Let\\'s be happy.\" Dora said, excitedly.\\n\\n\"Okay'"
      ]
     },
     "execution_count": 20,
     "metadata": {},
     "output_type": "execute_result"
    }
   ],
   "source": [
    "longest.values[0]"
   ]
  },
  {
   "cell_type": "code",
   "execution_count": 21,
   "metadata": {},
   "outputs": [],
   "source": [
    "assert tokenizer.decode(tokenizer.encode(subs.loc[0,['text']].values[0])) == subs.loc[0,['text']].values[0], 'tokenization does not match'"
   ]
  },
  {
   "cell_type": "code",
   "execution_count": 22,
   "metadata": {},
   "outputs": [
    {
     "data": {
      "text/plain": [
       "'Once upon a time, there was a little girl named Lily. She loved to play with her fancy dolls and her favorite stick. One day, Lily was playing in the park when she saw a boy riding his bike. The boy accidentally rode into a tree and fell off his bike.\\n\\nLily ran over to the boy and asked, \"Are you okay?\" The boy said, \"No, my bike is broken. I need to reverse the pedals.\" Lily didn\\'t know what \"reverse\" meant, so the boy explained that he needed to turn the pedals backwards to fix his bike.\\n\\nLily wanted to help, so she took her stick and tried to reverse the pedals. It didn\\'t work, so the boy showed her how to do it. When they fixed the bike, the boy said, \"Thank you for helping me. You are very kind.\" Lily felt happy and proud that she could help someone. She went home and told her mom about her adventure in the park.'"
      ]
     },
     "execution_count": 22,
     "metadata": {},
     "output_type": "execute_result"
    }
   ],
   "source": [
    "subs.loc[1000,['text']].values[0] # in original dataset"
   ]
  },
  {
   "cell_type": "code",
   "execution_count": 23,
   "metadata": {},
   "outputs": [],
   "source": [
    "assert tokenizer.decode(tokenizer.encode(subs.loc[1000,['text']].values[0])) == subs.loc[1000,['text']].values[0], 'tokenization does not match'"
   ]
  },
  {
   "cell_type": "code",
   "execution_count": 24,
   "metadata": {},
   "outputs": [],
   "source": [
    "tokens=tokenizer.encode(\"Once upon a time there was a loyal rabbit who left the forest to look for something delicious to eat.\")"
   ]
  },
  {
   "cell_type": "code",
   "execution_count": 25,
   "metadata": {},
   "outputs": [],
   "source": [
    "import torch\n",
    "device = 'cuda:0'\n",
    "num_return_sequences = 4\n",
    "tokens = torch.tensor(tokens, dtype=torch.long)\n",
    "tokens = tokens.unsqueeze(0).repeat(num_return_sequences, 1)\n",
    "xgen = tokens.to(device)"
   ]
  },
  {
   "cell_type": "code",
   "execution_count": 26,
   "metadata": {},
   "outputs": [
    {
     "data": {
      "text/plain": [
       "tensor([[ 431,  447,  259,  396,  399,  282,  259, 2868, 1101,  592, 1418,  263,\n",
       "         1074,  266,  652,  366,  565, 1440,  266,  762,   14],\n",
       "        [ 431,  447,  259,  396,  399,  282,  259, 2868, 1101,  592, 1418,  263,\n",
       "         1074,  266,  652,  366,  565, 1440,  266,  762,   14],\n",
       "        [ 431,  447,  259,  396,  399,  282,  259, 2868, 1101,  592, 1418,  263,\n",
       "         1074,  266,  652,  366,  565, 1440,  266,  762,   14],\n",
       "        [ 431,  447,  259,  396,  399,  282,  259, 2868, 1101,  592, 1418,  263,\n",
       "         1074,  266,  652,  366,  565, 1440,  266,  762,   14]],\n",
       "       device='cuda:0')"
      ]
     },
     "execution_count": 26,
     "metadata": {},
     "output_type": "execute_result"
    }
   ],
   "source": [
    "xgen"
   ]
  },
  {
   "cell_type": "code",
   "execution_count": 27,
   "metadata": {},
   "outputs": [
    {
     "data": {
      "text/plain": [
       "torch.Size([4, 21])"
      ]
     },
     "execution_count": 27,
     "metadata": {},
     "output_type": "execute_result"
    }
   ],
   "source": [
    "xgen.size()"
   ]
  },
  {
   "cell_type": "code",
   "execution_count": null,
   "metadata": {},
   "outputs": [],
   "source": []
  }
 ],
 "metadata": {
  "kernelspec": {
   "display_name": "mintonano",
   "language": "python",
   "name": "python3"
  },
  "language_info": {
   "codemirror_mode": {
    "name": "ipython",
    "version": 3
   },
   "file_extension": ".py",
   "mimetype": "text/x-python",
   "name": "python",
   "nbconvert_exporter": "python",
   "pygments_lexer": "ipython3",
   "version": "3.11.9"
  }
 },
 "nbformat": 4,
 "nbformat_minor": 2
}
