{
 "cells": [
  {
   "cell_type": "code",
   "execution_count": 1,
   "metadata": {},
   "outputs": [
    {
     "name": "stderr",
     "output_type": "stream",
     "text": [
      "/home/mainuser/anaconda3/envs/mintonano/lib/python3.11/site-packages/tqdm/auto.py:21: TqdmWarning: IProgress not found. Please update jupyter and ipywidgets. See https://ipywidgets.readthedocs.io/en/stable/user_install.html\n",
      "  from .autonotebook import tqdm as notebook_tqdm\n"
     ]
    }
   ],
   "source": [
    "import os\n",
    "from tqdm import tqdm\n",
    "import numpy as np\n",
    "from datasets import load_dataset # huggingface datasets\n",
    "\n",
    "num_proc = 8\n",
    "num_proc_load_dataset = num_proc"
   ]
  },
  {
   "cell_type": "code",
   "execution_count": 2,
   "metadata": {},
   "outputs": [],
   "source": [
    "\n",
    "from transformers import AutoTokenizer\n",
    "tokenizer = enc = AutoTokenizer.from_pretrained(\"tokenizer/tiny_stories_tokenizer\")\n",
    "tokenizer.pad_token = tokenizer.eos_token\n"
   ]
  },
  {
   "cell_type": "code",
   "execution_count": 3,
   "metadata": {},
   "outputs": [
    {
     "data": {
      "text/plain": [
       "6400"
      ]
     },
     "execution_count": 3,
     "metadata": {},
     "output_type": "execute_result"
    }
   ],
   "source": [
    "tokenizer.vocab_size"
   ]
  },
  {
   "cell_type": "code",
   "execution_count": 4,
   "metadata": {},
   "outputs": [
    {
     "name": "stderr",
     "output_type": "stream",
     "text": [
      "Saving the dataset (4/4 shards): 100%|██████████| 2119719/2119719 [00:01<00:00, 1607022.78 examples/s]\n",
      "Saving the dataset (1/1 shards): 100%|██████████| 21990/21990 [00:00<00:00, 1955450.74 examples/s]\n"
     ]
    }
   ],
   "source": [
    "tinystories_ds = load_dataset(\"roneneldan/TinyStories\")\n",
    "\n",
    "tinystories_ds.save_to_disk(\"data/tinystories\")"
   ]
  },
  {
   "cell_type": "code",
   "execution_count": 5,
   "metadata": {},
   "outputs": [],
   "source": [
    "if __name__ == '__main__':\n",
    "    # takes 54GB in huggingface .cache dir, about 8M documents (8,013,769)\n",
    "    #dataset = load_dataset(\"data/tinystories\", num_proc=num_proc_load_dataset)\n",
    "    dataset = load_dataset(\"roneneldan/TinyStories\", num_proc=num_proc_load_dataset)\n",
    "    tokenizer.pad_token = eot= tokenizer.eos_token"
   ]
  },
  {
   "cell_type": "code",
   "execution_count": 6,
   "metadata": {},
   "outputs": [
    {
     "data": {
      "text/plain": [
       "[0]"
      ]
     },
     "execution_count": 6,
     "metadata": {},
     "output_type": "execute_result"
    }
   ],
   "source": [
    "tokenizer.encode(eot)"
   ]
  },
  {
   "cell_type": "code",
   "execution_count": 7,
   "metadata": {},
   "outputs": [
    {
     "data": {
      "text/plain": [
       "[265]"
      ]
     },
     "execution_count": 7,
     "metadata": {},
     "output_type": "execute_result"
    }
   ],
   "source": [
    "tokenizer.encode(' and')"
   ]
  },
  {
   "cell_type": "code",
   "execution_count": 8,
   "metadata": {},
   "outputs": [
    {
     "data": {
      "text/plain": [
       "'and'"
      ]
     },
     "execution_count": 8,
     "metadata": {},
     "output_type": "execute_result"
    }
   ],
   "source": [
    "tokenizer.decode([723])"
   ]
  },
  {
   "cell_type": "code",
   "execution_count": 9,
   "metadata": {},
   "outputs": [
    {
     "data": {
      "text/plain": [
       "0"
      ]
     },
     "execution_count": 9,
     "metadata": {},
     "output_type": "execute_result"
    }
   ],
   "source": [
    "tokenizer.encode(tokenizer.eos_token)[0]"
   ]
  },
  {
   "cell_type": "code",
   "execution_count": 10,
   "metadata": {},
   "outputs": [
    {
     "data": {
      "text/plain": [
       "{'text': ['One day, a little girl named Lily found a needle in her room. She knew it was difficult to play with it because it was sharp. Lily wanted to share the needle with her mom, so she could sew a button on her shirt.\\n\\nLily went to her mom and said, \"Mom, I found this needle. Can you share it with me and sew my shirt?\" Her mom smiled and said, \"Yes, Lily, we can share the needle and fix your shirt.\"\\n\\nTogether, they shared the needle and sewed the button on Lily\\'s shirt. It was not difficult for them because they were sharing and helping each other. After they finished, Lily thanked her mom for sharing the needle and fixing her shirt. They both felt happy because they had shared and worked together.',\n",
       "  'Once upon a time, there was a little car named Beep. Beep loved to go fast and play in the sun. Beep was a healthy car because he always had good fuel. Good fuel made Beep happy and strong.\\n\\nOne day, Beep was driving in the park when he saw a big tree. The tree had many leaves that were falling. Beep liked how the leaves fall and wanted to play with them. Beep drove under the tree and watched the leaves fall on him. He laughed and beeped his horn.\\n\\nBeep played with the falling leaves all day. When it was time to go home, Beep knew he needed more fuel. He went to the fuel place and got more healthy fuel. Now, Beep was ready to go fast and play again the next day. And Beep lived happily ever after.',\n",
       "  'One day, a little fish named Fin was swimming near the shore. He saw a big crab and wanted to be friends. \"Hi, I am Fin. Do you want to play?\" asked the little fish. The crab looked at Fin and said, \"No, I don\\'t want to play. I am cold and I don\\'t feel fine.\"\\n\\nFin felt sad but wanted to help the crab feel better. He swam away and thought of a plan. He remembered that the sun could make things warm. So, Fin swam to the top of the water and called to the sun, \"Please, sun, help my new friend feel fine and not freeze!\"\\n\\nThe sun heard Fin\\'s call and shone its warm light on the shore. The crab started to feel better and not so cold. He saw Fin and said, \"Thank you, little fish, for making me feel fine. I don\\'t feel like I will freeze now. Let\\'s play together!\" And so, Fin and the crab played and became good friends.',\n",
       "  'Once upon a time, in a land full of trees, there was a little cherry tree. The cherry tree was very sad because it did not have any friends. All the other trees were big and strong, but the cherry tree was small and weak. The cherry tree was envious of the big trees.\\n\\nOne day, the cherry tree felt a tickle in its branches. It was a little spring wind. The wind told the cherry tree not to be sad. The wind said, \"You are special because you have sweet cherries that everyone loves.\" The cherry tree started to feel a little better.\\n\\nAs time went on, the cherry tree grew more and more cherries. All the animals in the land came to eat the cherries and play under the cherry tree. The cherry tree was happy because it had many friends now. The cherry tree learned that being different can be a good thing. And they all lived happily ever after.',\n",
       "  'Once upon a time, there was a little girl named Lily. Lily liked to pretend she was a popular princess. She lived in a big castle with her best friends, a cat and a dog.\\n\\nOne day, while playing in the castle, Lily found a big cobweb. The cobweb was in the way of her fun game. She wanted to get rid of it, but she was scared of the spider that lived there.\\n\\nLily asked her friends, the cat and the dog, to help her. They all worked together to clean the cobweb. The spider was sad, but it found a new home outside. Lily, the cat, and the dog were happy they could play without the cobweb in the way. And they all lived happily ever after.',\n",
       "  'Once upon a time, in a big lake, there was a brown kayak. The brown kayak liked to roll in the water all day long. It was very happy when it could roll and splash in the lake.\\n\\nOne day, a little boy named Tim came to play with the brown kayak. Tim and the brown kayak rolled in the water together. They laughed and had a lot of fun. The sun was shining, and the water was warm.\\n\\nAfter a while, it was time for Tim to go home. He said goodbye to the brown kayak and gave it a big hug. The brown kayak was sad to see Tim go, but it knew they would play together again soon. So, the brown kayak kept rolling in the water, waiting for the next fun day with Tim.',\n",
       "  'Once upon a time, in a small town, there was a troubled little girl named Lily. She was always sad because she lost her favorite toy, a triangle. She looked everywhere in her house but could not find it.\\n\\nOne sunny day, Lily went to the park to play. She saw a big puddle of water and thought her triangle might be there. She put her hand in the water to soak it and looked for her toy. She felt something at the bottom of the puddle.\\n\\nLily pulled it out and saw that it was her triangle! She was so happy that she found it. From that day on, Lily was never troubled again. She played with her triangle every day and always kept it close to her. And when she saw puddles, she would smile and remember how she found her toy.',\n",
       "  'Once upon a time, in a peaceful town, there lived a little boy named Tim. Tim loved to run and play outside. One day, Tim saw a race in the park. He was excited and wanted to join the race.\\n\\nTim went to his friend, Sarah, and said, \"Let\\'s start the race!\" Sarah smiled and said, \"Yes, let\\'s go!\" They lined up with the other kids and waited for the race to begin. When they heard the word \"Go!\", they started running as fast as they could.\\n\\nTim and Sarah ran with all their speed, laughing and having fun. They could feel the wind in their hair as they raced to the finish line. In the end, Tim won the race and Sarah came in second. They were both so happy and proud of themselves. They celebrated with their friends and had a great day at the park.',\n",
       "  'Once upon a time, there was a clever little dog named Max. Max loved to run and play with his friends in the park. One day, Max was running very fast when he fell and hurt his knee.\\n\\nMax went to his friend, the wise old owl, and said, \"Owl, my knee hurts. What can I do?\" The owl thought for a moment and said, \"Max, you should test your knee. Try to walk slowly and see if it still hurts.\"\\n\\nSo Max tested his knee by walking slowly. At first, it hurt a little, but soon Max felt better. He said, \"Thank you, Owl, for your help. Now I can play with my friends again.\"\\n\\nMax was so happy that he could play with his friends without pain. He learned that sometimes, it was good to slow down and listen to his body. And Max and his friends played happily in the park ever after.',\n",
       "  'One day, a fast driver named Tim went for a ride in his loud car. He loved to speed down the street and feel the wind in his hair. As he drove, he saw his friend, Sam, standing by the road.\\n\\n\"Hi, Sam!\" Tim called out. \"Do you want to go for a ride?\"\\n\\n\"Yes, please!\" Sam said, and he got in the car. They drove around the town, going fast and having fun. The car was very loud, and everyone could hear them coming.\\n\\nAt last, they stopped at the park to play. They ran and laughed until it was time to go home. Tim and Sam had a great day together, speeding in the loud car and playing in the park.']}"
      ]
     },
     "execution_count": 10,
     "metadata": {},
     "output_type": "execute_result"
    }
   ],
   "source": [
    "dataset['train'][:10]"
   ]
  },
  {
   "cell_type": "code",
   "execution_count": 11,
   "metadata": {},
   "outputs": [],
   "source": [
    "def process(example):\n",
    "    ids = tokenizer.encode(example['text']) # tiktoken doesn't have max seq length, HF does\n",
    "    #ids = enc.encode_ordinary(example['text']) # encode_ordinary ignores any special tokens\n",
    "    #ids = ids[:1023]\n",
    "    #print(f\"eos token is {tokenizer.encode(tokenizer.eos_token)}\")\n",
    "    ids.append(tokenizer.encode(tokenizer.eos_token)[0]) #token 1024\n",
    "    #ids.append(enc.eot_token) # add the end of text token, e.g. 50256 for gpt2 bpe\n",
    "    # note: I think eot should be prepended not appended... hmm. it's called \"eot\" though...\n",
    "    out = {'ids': ids, 'len': len(ids)}\n",
    "    return out"
   ]
  },
  {
   "cell_type": "code",
   "execution_count": 12,
   "metadata": {},
   "outputs": [
    {
     "name": "stderr",
     "output_type": "stream",
     "text": [
      "Map:  43%|████▎     | 4300/10000 [00:01<00:01, 4258.46 examples/s]Token indices sequence length is longer than the specified maximum sequence length for this model (1094 > 1024). Running this sequence through the model will result in indexing errors\n",
      "Map: 100%|██████████| 10000/10000 [00:02<00:00, 4209.46 examples/s]\n"
     ]
    }
   ],
   "source": [
    "subs = dataset['train'].shuffle().select(range(10000)).map(process).to_pandas()"
   ]
  },
  {
   "cell_type": "code",
   "execution_count": 13,
   "metadata": {},
   "outputs": [
    {
     "name": "stdout",
     "output_type": "stream",
     "text": [
      "                len\n",
      "count  10000.000000\n",
      "mean     220.150800\n",
      "std      105.290607\n",
      "min        1.000000\n",
      "25%      163.000000\n",
      "50%      190.000000\n",
      "75%      232.000000\n",
      "max     1097.000000\n",
      "99.9th percentile with tokenizer of size 6400: 912.0120000000024\n"
     ]
    }
   ],
   "source": [
    "print(subs.describe()); print(f\"99.9th percentile with tokenizer of size {tokenizer.vocab_size}: {subs['len'].quantile(.999)}\")"
   ]
  },
  {
   "cell_type": "code",
   "execution_count": 14,
   "metadata": {},
   "outputs": [
    {
     "data": {
      "text/html": [
       "<div>\n",
       "<style scoped>\n",
       "    .dataframe tbody tr th:only-of-type {\n",
       "        vertical-align: middle;\n",
       "    }\n",
       "\n",
       "    .dataframe tbody tr th {\n",
       "        vertical-align: top;\n",
       "    }\n",
       "\n",
       "    .dataframe thead th {\n",
       "        text-align: right;\n",
       "    }\n",
       "</style>\n",
       "<table border=\"1\" class=\"dataframe\">\n",
       "  <thead>\n",
       "    <tr style=\"text-align: right;\">\n",
       "      <th></th>\n",
       "      <th>text</th>\n",
       "      <th>ids</th>\n",
       "      <th>len</th>\n",
       "    </tr>\n",
       "  </thead>\n",
       "  <tbody>\n",
       "    <tr>\n",
       "      <th>0</th>\n",
       "      <td>Once upon a time, there was a smart bunny who ...</td>\n",
       "      <td>[431, 447, 259, 396, 12, 399, 282, 259, 1748, ...</td>\n",
       "      <td>191</td>\n",
       "    </tr>\n",
       "    <tr>\n",
       "      <th>1</th>\n",
       "      <td>The sun was warm and shining as Sally made her...</td>\n",
       "      <td>[373, 733, 282, 1159, 265, 2219, 418, 1472, 56...</td>\n",
       "      <td>237</td>\n",
       "    </tr>\n",
       "    <tr>\n",
       "      <th>2</th>\n",
       "      <td>Once there was a friendly girl named Laura. On...</td>\n",
       "      <td>[431, 399, 282, 259, 1444, 446, 500, 579, 6361...</td>\n",
       "      <td>191</td>\n",
       "    </tr>\n",
       "    <tr>\n",
       "      <th>3</th>\n",
       "      <td>Once upon a time, there was a little boy named...</td>\n",
       "      <td>[431, 447, 259, 396, 12, 399, 282, 259, 397, 5...</td>\n",
       "      <td>186</td>\n",
       "    </tr>\n",
       "    <tr>\n",
       "      <th>4</th>\n",
       "      <td>Once upon a time, there was a little girl name...</td>\n",
       "      <td>[431, 447, 259, 396, 12, 399, 282, 259, 397, 4...</td>\n",
       "      <td>160</td>\n",
       "    </tr>\n",
       "  </tbody>\n",
       "</table>\n",
       "</div>"
      ],
      "text/plain": [
       "                                                text  \\\n",
       "0  Once upon a time, there was a smart bunny who ...   \n",
       "1  The sun was warm and shining as Sally made her...   \n",
       "2  Once there was a friendly girl named Laura. On...   \n",
       "3  Once upon a time, there was a little boy named...   \n",
       "4  Once upon a time, there was a little girl name...   \n",
       "\n",
       "                                                 ids  len  \n",
       "0  [431, 447, 259, 396, 12, 399, 282, 259, 1748, ...  191  \n",
       "1  [373, 733, 282, 1159, 265, 2219, 418, 1472, 56...  237  \n",
       "2  [431, 399, 282, 259, 1444, 446, 500, 579, 6361...  191  \n",
       "3  [431, 447, 259, 396, 12, 399, 282, 259, 397, 5...  186  \n",
       "4  [431, 447, 259, 396, 12, 399, 282, 259, 397, 4...  160  "
      ]
     },
     "execution_count": 14,
     "metadata": {},
     "output_type": "execute_result"
    }
   ],
   "source": [
    "subs.head()"
   ]
  },
  {
   "cell_type": "code",
   "execution_count": 15,
   "metadata": {},
   "outputs": [
    {
     "data": {
      "text/plain": [
       "1097"
      ]
     },
     "execution_count": 15,
     "metadata": {},
     "output_type": "execute_result"
    }
   ],
   "source": [
    "mx=subs['len'].max()\n",
    "mx"
   ]
  },
  {
   "cell_type": "code",
   "execution_count": 16,
   "metadata": {},
   "outputs": [],
   "source": [
    "longest=subs[subs.len==mx]['text']"
   ]
  },
  {
   "cell_type": "code",
   "execution_count": 17,
   "metadata": {},
   "outputs": [
    {
     "data": {
      "text/plain": [
       "array([1137,  265,  475, ...,  769,  259,    0])"
      ]
     },
     "execution_count": 17,
     "metadata": {},
     "output_type": "execute_result"
    }
   ],
   "source": [
    "subs[subs.len==mx]['ids'].values[0]"
   ]
  },
  {
   "cell_type": "code",
   "execution_count": 18,
   "metadata": {},
   "outputs": [
    {
     "data": {
      "text/plain": [
       "'Anna and Ben are playing with their toy cars. They like to make them go fast and make loud noises. Anna has a red car and Ben has a blue car. They also have some stickers that look like licenses. They want to put them on their cars to make them look real.\\n\\n\"Look, I have a license for my car!\" Anna says, showing Ben her sticker. \"It says Anna and has a picture of a flower. It is very pretty.\"\\n\\n\"That\\'s nice,\" Ben says. \"But I have a license for my car too. It says Ben and has a picture of a star. It is very cool.\"\\n\\nThey both attach their licenses to their cars with some tape. They are very proud of their cars.\\n\\n\"Let\\'s race!\" Anna says. \"We can see whose car is faster.\"\\n\\n\"OK,\" Ben says. \"But I know my car is faster. It has a star on it.\"\\n\\nThey line up their cars on the floor and get ready to push them. They count to three and then push their cars as hard as they can.\\n\\n\"Go, go, go!\" Anna and Ben shout.\\n\\nTheir cars zoom across the floor. They are very close. Anna and Ben run after them, cheering for their cars.\\n\\nBut then, something happens. Ben\\'s car hits a bump on the rug and flips over. His license falls off and slides under the couch.\\n\\n\"Oh no!\" Ben says. \"My license! Where is it?\"\\n\\nHe looks under the couch, but he can\\'t see it. It is too dark and too far.\\n\\n\"Here, I\\'ll help you,\" Anna says. She gets a flashlight and shines it under the couch. She sees the license and reaches for it.\\n\\n\"Got it!\" she says, holding up the license. \"Here you go, Ben. Your license is safe.\"\\n\\n\"Thank you, Anna,\" Ben says, taking the license. \"You are very kind.\"\\n\\nHe tries to attach the license to his car again, but the tape is not sticky anymore. It won\\'t stick.\\n\\n\"Oh no!\" Ben says. \"My license won\\'t stick. What can I do?\"\\n\\nAnna thinks for a moment. She has an idea.\\n\\n\"I know!\" she says. \"You can share my license. We can put it on both of our cars. Then we can both have flowers and stars.\"\\n\\nBen looks at Anna\\'s license. He likes the star, but he doesn\\'t like the flower. He likes his own license better. He is stubborn.\\n\\n\"No, thank you,\" he says. \"I don\\'t want to share your license. I want my own license. I\\'ll find another way to make it stick.\"\\n\\nHe looks around for something else to use. He sees a bottle of glue on the table. He gets the glue and squeezes some on his license. He sticks it on his car.\\n\\n\"There!\" he says. \"Now my license will stick. It is perfect.\"\\n\\nHe shows Anna his car. Anna looks at it. She sees the glue dripping from the license. She sees the license covering the window of the car. She sees the license sticking to the table.\\n\\n\"Ben, that\\'s too much glue!\" she says. \"Your license is messy. And it\\'s blocking your car. And it\\'s ruining the table.\"\\n\\nBen looks at his car. He sees what Anna sees. He feels sad. He made a mistake.\\n\\n\"You\\'re right, Anna,\" he says. \"I used too much glue. My license is not perfect. It is bad.\"\\n\\nHe tries to pull off the license, but it is too hard. It won\\'t come off.\\n\\n\"What can I do?\" he says. \"How can I fix it?\"\\n\\nAnna thinks for a moment. She has another idea.\\n\\n\"I know!\" she says. \"You can use scissors. We can cut off the extra glue and the extra license. Then we can make your license smaller and neater. And we can clean the table.\"\\n\\nBen likes Anna\\'s idea. He gets the scissors and follows Anna\\'s instructions. He cuts off the glue and the license. He makes his license smaller and neater. He cleans the table.\\n\\n\"There!\" he says. \"Now my license is better. It is not messy. And it is not blocking my car. And it is not ruining the table.\"\\n\\nHe shows Anna his car. Anna looks at it. She sees the license on the car. She sees the license has a star and a flower. She sees the license says Ben and Anna.\\n\\n\"Ben, that\\'s a great license!\" she says. \"It has a star and a flower. It says Ben and Anna. It is very pretty and cool.\"\\n\\nBen looks at his license. He sees what Anna sees. He feels happy. He made a good license.\\n\\n\"Thank you, Anna,\" he says. \"You helped me a lot. You are very smart and nice.\"\\n\\nHe gives Anna a<|endoftext|>'"
      ]
     },
     "execution_count": 18,
     "metadata": {},
     "output_type": "execute_result"
    }
   ],
   "source": [
    "tokenizer.decode(subs[subs.len==mx]['ids'].values[0])"
   ]
  },
  {
   "cell_type": "code",
   "execution_count": 21,
   "metadata": {},
   "outputs": [
    {
     "data": {
      "image/png": "[encoded data removed]",
      "text/plain": [
       "<Figure size 640x480 with 1 Axes>"
      ]
     },
     "metadata": {},
     "output_type": "display_data"
    }
   ],
   "source": [
    "hst=subs['len'].hist()\n",
    "hst.set_title(f'Histogram of tokenized sequence lengths with vocab size of {tokenizer.vocab_size}*')\n",
    "hst.set_xlabel(\"*random subset of length 10000 was taken\")\n",
    "hst.grid(False)"
   ]
  },
  {
   "cell_type": "code",
   "execution_count": 20,
   "metadata": {},
   "outputs": [
    {
     "data": {
      "text/plain": [
       "'Anna and Ben are playing with their toy cars. They like to make them go fast and make loud noises. Anna has a red car and Ben has a blue car. They also have some stickers that look like licenses. They want to put them on their cars to make them look real.\\n\\n\"Look, I have a license for my car!\" Anna says, showing Ben her sticker. \"It says Anna and has a picture of a flower. It is very pretty.\"\\n\\n\"That\\'s nice,\" Ben says. \"But I have a license for my car too. It says Ben and has a picture of a star. It is very cool.\"\\n\\nThey both attach their licenses to their cars with some tape. They are very proud of their cars.\\n\\n\"Let\\'s race!\" Anna says. \"We can see whose car is faster.\"\\n\\n\"OK,\" Ben says. \"But I know my car is faster. It has a star on it.\"\\n\\nThey line up their cars on the floor and get ready to push them. They count to three and then push their cars as hard as they can.\\n\\n\"Go, go, go!\" Anna and Ben shout.\\n\\nTheir cars zoom across the floor. They are very close. Anna and Ben run after them, cheering for their cars.\\n\\nBut then, something happens. Ben\\'s car hits a bump on the rug and flips over. His license falls off and slides under the couch.\\n\\n\"Oh no!\" Ben says. \"My license! Where is it?\"\\n\\nHe looks under the couch, but he can\\'t see it. It is too dark and too far.\\n\\n\"Here, I\\'ll help you,\" Anna says. She gets a flashlight and shines it under the couch. She sees the license and reaches for it.\\n\\n\"Got it!\" she says, holding up the license. \"Here you go, Ben. Your license is safe.\"\\n\\n\"Thank you, Anna,\" Ben says, taking the license. \"You are very kind.\"\\n\\nHe tries to attach the license to his car again, but the tape is not sticky anymore. It won\\'t stick.\\n\\n\"Oh no!\" Ben says. \"My license won\\'t stick. What can I do?\"\\n\\nAnna thinks for a moment. She has an idea.\\n\\n\"I know!\" she says. \"You can share my license. We can put it on both of our cars. Then we can both have flowers and stars.\"\\n\\nBen looks at Anna\\'s license. He likes the star, but he doesn\\'t like the flower. He likes his own license better. He is stubborn.\\n\\n\"No, thank you,\" he says. \"I don\\'t want to share your license. I want my own license. I\\'ll find another way to make it stick.\"\\n\\nHe looks around for something else to use. He sees a bottle of glue on the table. He gets the glue and squeezes some on his license. He sticks it on his car.\\n\\n\"There!\" he says. \"Now my license will stick. It is perfect.\"\\n\\nHe shows Anna his car. Anna looks at it. She sees the glue dripping from the license. She sees the license covering the window of the car. She sees the license sticking to the table.\\n\\n\"Ben, that\\'s too much glue!\" she says. \"Your license is messy. And it\\'s blocking your car. And it\\'s ruining the table.\"\\n\\nBen looks at his car. He sees what Anna sees. He feels sad. He made a mistake.\\n\\n\"You\\'re right, Anna,\" he says. \"I used too much glue. My license is not perfect. It is bad.\"\\n\\nHe tries to pull off the license, but it is too hard. It won\\'t come off.\\n\\n\"What can I do?\" he says. \"How can I fix it?\"\\n\\nAnna thinks for a moment. She has another idea.\\n\\n\"I know!\" she says. \"You can use scissors. We can cut off the extra glue and the extra license. Then we can make your license smaller and neater. And we can clean the table.\"\\n\\nBen likes Anna\\'s idea. He gets the scissors and follows Anna\\'s instructions. He cuts off the glue and the license. He makes his license smaller and neater. He cleans the table.\\n\\n\"There!\" he says. \"Now my license is better. It is not messy. And it is not blocking my car. And it is not ruining the table.\"\\n\\nHe shows Anna his car. Anna looks at it. She sees the license on the car. She sees the license has a star and a flower. She sees the license says Ben and Anna.\\n\\n\"Ben, that\\'s a great license!\" she says. \"It has a star and a flower. It says Ben and Anna. It is very pretty and cool.\"\\n\\nBen looks at his license. He sees what Anna sees. He feels happy. He made a good license.\\n\\n\"Thank you, Anna,\" he says. \"You helped me a lot. You are very smart and nice.\"\\n\\nHe gives Anna a'"
      ]
     },
     "execution_count": 20,
     "metadata": {},
     "output_type": "execute_result"
    }
   ],
   "source": [
    "longest.values[0]"
   ]
  },
  {
   "cell_type": "code",
   "execution_count": 32,
   "metadata": {},
   "outputs": [],
   "source": [
    "assert tokenizer.decode(tokenizer.encode(subs.loc[0,['text']].values[0])) == subs.loc[0,['text']].values[0], 'tokenization does not match'"
   ]
  },
  {
   "cell_type": "code",
   "execution_count": 29,
   "metadata": {},
   "outputs": [
    {
     "data": {
      "text/plain": [
       "'Once upon a time, there was a gentle rabbit. He lived in a forest full of trees and delicious carrots. Every day he would search for yummy carrots to eat.\\n\\nOne day, he found a special carrot - it was bigger and juicier than any he\\'d ever seen before. He was so happy he couldn\\'t wait to take a big bite out of it. But then a voice came from the carrot.\\n\\n\"Who are you?\" it asked.\\nThe rabbit was very surprised - he had never heard a carrot talk before! He answered, telling the carrot his name.\\n\\nThe carrot thanked him and said, \"I am the Magic Carrot. If you answer one more question correctly, you can have me as a reward! What are carrots made of?\"\\n\\nThe rabbit thought for a moment, then answered, \"Carrots are made of soil and sunshine!\"\\n\\nThe Magic Carrot was so pleased that he gave the rabbit a big smile and said, \"Well done! You have earned this delicious carrot - enjoy!\"\\n\\nThe rabbit was delighted - he had never tasted a carrot as juicy and delicious as this one. From then on, he always answered questions carefully, because he knew that all good things come to those who answer kindly.'"
      ]
     },
     "execution_count": 29,
     "metadata": {},
     "output_type": "execute_result"
    }
   ],
   "source": [
    "subs.loc[1000,['text']].values[0] # in original dataset"
   ]
  },
  {
   "cell_type": "code",
   "execution_count": 34,
   "metadata": {},
   "outputs": [],
   "source": [
    "assert tokenizer.decode(tokenizer.encode(subs.loc[1000,['text']].values[0])) == subs.loc[1000,['text']].values[0], 'tokenization does not match'"
   ]
  },
  {
   "cell_type": "code",
   "execution_count": null,
   "metadata": {},
   "outputs": [],
   "source": []
  }
 ],
 "metadata": {
  "kernelspec": {
   "display_name": "mintonano",
   "language": "python",
   "name": "python3"
  },
  "language_info": {
   "codemirror_mode": {
    "name": "ipython",
    "version": 3
   },
   "file_extension": ".py",
   "mimetype": "text/x-python",
   "name": "python",
   "nbconvert_exporter": "python",
   "pygments_lexer": "ipython3",
   "version": "3.11.9"
  }
 },
 "nbformat": 4,
 "nbformat_minor": 2
}
